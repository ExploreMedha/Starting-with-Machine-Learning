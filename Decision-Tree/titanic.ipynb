import pandas as pd

df = pd.read_csv("titanic.csv")
inputs = df.drop(['PassengerId','Name','SibSp','Parch','Ticket','Cabin','Embarked','Survived'],axis='columns')
#inputs
target = df['Survived']
#target

inputs.isna().sum()
